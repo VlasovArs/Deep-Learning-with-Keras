{
 "cells": [
  {
   "cell_type": "markdown",
   "id": "e1afbc81",
   "metadata": {},
   "source": [
    "### Creating a Dataset and training an Artificial Neural Network with Keras"
   ]
  },
  {
   "cell_type": "code",
   "execution_count": 15,
   "id": "bf85419f",
   "metadata": {},
   "outputs": [],
   "source": [
    "import keras\n",
    "from keras.models import Sequential\n",
    "from keras.layers import Dense\n",
    "from keras.optimizers import Adam\n",
    "\n",
    "import numpy as np\n",
    "import pandas as pd\n",
    "from random import randint\n",
    "from sklearn.preprocessing import MinMaxScaler # для маштабирования информации"
   ]
  },
  {
   "cell_type": "code",
   "execution_count": 16,
   "id": "8c4b9e58",
   "metadata": {},
   "outputs": [],
   "source": [
    "train_sample = []\n",
    "train_label = []"
   ]
  },
  {
   "cell_type": "code",
   "execution_count": 17,
   "id": "61164a42",
   "metadata": {},
   "outputs": [],
   "source": [
    "for i in range(1000):\n",
    "    younger_ages=randint(13, 64)\n",
    "    train_sample.append(younger_ages)\n",
    "    train_label.append(0)\n",
    "    \n",
    "    older_ages=randint(65,100)\n",
    "    train_sample.append(older_ages)\n",
    "    train_label.append(1)"
   ]
  },
  {
   "cell_type": "code",
   "execution_count": 18,
   "id": "6d9cd8d3",
   "metadata": {},
   "outputs": [],
   "source": [
    "train_sample=np.array(train_sample) # for special Keras"
   ]
  },
  {
   "cell_type": "code",
   "execution_count": 19,
   "id": "abbe8353",
   "metadata": {},
   "outputs": [
    {
     "data": {
      "text/plain": [
       "array([ 13,  78,  46, ...,  81,  17, 100])"
      ]
     },
     "execution_count": 19,
     "metadata": {},
     "output_type": "execute_result"
    }
   ],
   "source": [
    "train_sample"
   ]
  },
  {
   "cell_type": "code",
   "execution_count": 20,
   "id": "e2c47bfa",
   "metadata": {},
   "outputs": [],
   "source": [
    "train_label = np.array(train_label)"
   ]
  },
  {
   "cell_type": "code",
   "execution_count": 28,
   "id": "2644d626",
   "metadata": {},
   "outputs": [],
   "source": [
    "test_sample = []\n",
    "test_label = []"
   ]
  },
  {
   "cell_type": "code",
   "execution_count": 29,
   "id": "ebb7ab0a",
   "metadata": {},
   "outputs": [],
   "source": [
    "for i in range(1000):\n",
    "    younger_ages=randint(13, 64)\n",
    "    test_sample.append(younger_ages)\n",
    "    test_label.append(0)\n",
    "    \n",
    "    older_ages=randint(65,100)\n",
    "    test_sample.append(older_ages)\n",
    "    test_label.append(1)"
   ]
  },
  {
   "cell_type": "code",
   "execution_count": 30,
   "id": "8bb42cbb",
   "metadata": {},
   "outputs": [],
   "source": [
    "test_sample = np.array(test_sample)\n",
    "test_label = np.array(test_label)"
   ]
  },
  {
   "cell_type": "code",
   "execution_count": 21,
   "id": "0d507db0",
   "metadata": {},
   "outputs": [],
   "source": [
    "scalar=MinMaxScaler(feature_range=(0,1))"
   ]
  },
  {
   "cell_type": "code",
   "execution_count": 22,
   "id": "46cfcacf",
   "metadata": {},
   "outputs": [],
   "source": [
    "scalar_train_sample = scalar.fit_transform(train_sample.reshape(-1,1))"
   ]
  },
  {
   "cell_type": "code",
   "execution_count": 42,
   "id": "9038b6a2",
   "metadata": {},
   "outputs": [],
   "source": [
    "model=Sequential([Dense(16,input_dim=1,activation='relu'),Dense(32,activation='relu'),Dense(2,activation='softmax')])"
   ]
  },
  {
   "cell_type": "code",
   "execution_count": 43,
   "id": "d00362ab",
   "metadata": {},
   "outputs": [
    {
     "name": "stdout",
     "output_type": "stream",
     "text": [
      "Model: \"sequential_4\"\n",
      "_________________________________________________________________\n",
      " Layer (type)                Output Shape              Param #   \n",
      "=================================================================\n",
      " dense_10 (Dense)            (None, 16)                32        \n",
      "                                                                 \n",
      " dense_11 (Dense)            (None, 32)                544       \n",
      "                                                                 \n",
      " dense_12 (Dense)            (None, 2)                 66        \n",
      "                                                                 \n",
      "=================================================================\n",
      "Total params: 642\n",
      "Trainable params: 642\n",
      "Non-trainable params: 0\n",
      "_________________________________________________________________\n"
     ]
    }
   ],
   "source": [
    "model.summary()"
   ]
  },
  {
   "cell_type": "code",
   "execution_count": 44,
   "id": "06f0962e",
   "metadata": {},
   "outputs": [
    {
     "name": "stderr",
     "output_type": "stream",
     "text": [
      "C:\\Users\\Vlaso\\anaconda3\\lib\\site-packages\\keras\\optimizers\\optimizer_v2\\adam.py:117: UserWarning: The `lr` argument is deprecated, use `learning_rate` instead.\n",
      "  super().__init__(name, **kwargs)\n"
     ]
    }
   ],
   "source": [
    "model.compile(Adam(lr=0.001),loss='sparse_categorical_crossentropy',metrics=['accuracy'])"
   ]
  },
  {
   "cell_type": "code",
   "execution_count": 45,
   "id": "279b61e9",
   "metadata": {
    "scrolled": true
   },
   "outputs": [
    {
     "name": "stdout",
     "output_type": "stream",
     "text": [
      "Epoch 1/10\n",
      "200/200 [==============================] - 2s 3ms/step - loss: 0.6150 - accuracy: 0.6415\n",
      "Epoch 2/10\n",
      "200/200 [==============================] - 1s 3ms/step - loss: 0.4708 - accuracy: 0.7990\n",
      "Epoch 3/10\n",
      "200/200 [==============================] - 1s 3ms/step - loss: 0.3786 - accuracy: 0.8575\n",
      "Epoch 4/10\n",
      "200/200 [==============================] - 1s 3ms/step - loss: 0.2980 - accuracy: 0.8995\n",
      "Epoch 5/10\n",
      "200/200 [==============================] - 1s 3ms/step - loss: 0.2349 - accuracy: 0.9310\n",
      "Epoch 6/10\n",
      "200/200 [==============================] - 1s 3ms/step - loss: 0.2048 - accuracy: 0.9335\n",
      "Epoch 7/10\n",
      "200/200 [==============================] - 1s 3ms/step - loss: 0.1876 - accuracy: 0.9365\n",
      "Epoch 8/10\n",
      "200/200 [==============================] - 1s 3ms/step - loss: 0.1622 - accuracy: 0.9480\n",
      "Epoch 9/10\n",
      "200/200 [==============================] - 1s 3ms/step - loss: 0.1382 - accuracy: 0.9655\n",
      "Epoch 10/10\n",
      "200/200 [==============================] - 1s 3ms/step - loss: 0.1319 - accuracy: 0.9620\n"
     ]
    },
    {
     "data": {
      "text/plain": [
       "<keras.callbacks.History at 0x20f4dac11c0>"
      ]
     },
     "execution_count": 45,
     "metadata": {},
     "output_type": "execute_result"
    }
   ],
   "source": [
    "model.fit(train_sample, train_label, batch_size=10, epochs=10)"
   ]
  },
  {
   "cell_type": "code",
   "execution_count": 51,
   "id": "4e4d080b",
   "metadata": {},
   "outputs": [
    {
     "name": "stdout",
     "output_type": "stream",
     "text": [
      "200/200 [==============================] - 0s 2ms/step\n"
     ]
    }
   ],
   "source": [
    "#test_sample_output = (model.predict(test_sample, batch_size=10) > 0.5).astype(\"int32\")\n",
    "test_sample_output=model.predict(test_sample, batch_size=10) \n",
    "test_sample_output=np.argmax(test_sample_output,axis=1)"
   ]
  },
  {
   "cell_type": "code",
   "execution_count": 48,
   "id": "9c7ea336",
   "metadata": {},
   "outputs": [],
   "source": [
    "from sklearn.metrics import confusion_matrix"
   ]
  },
  {
   "cell_type": "code",
   "execution_count": 52,
   "id": "998beaa1",
   "metadata": {},
   "outputs": [],
   "source": [
    "predictedvalues=confusion_matrix(test_label, test_sample_output)"
   ]
  },
  {
   "cell_type": "code",
   "execution_count": 53,
   "id": "cf1ee297",
   "metadata": {},
   "outputs": [
    {
     "data": {
      "text/plain": [
       "array([[ 983,   17],\n",
       "       [   0, 1000]], dtype=int64)"
      ]
     },
     "execution_count": 53,
     "metadata": {},
     "output_type": "execute_result"
    }
   ],
   "source": [
    "predictedvalues"
   ]
  },
  {
   "cell_type": "code",
   "execution_count": null,
   "id": "fe872b1d",
   "metadata": {},
   "outputs": [],
   "source": [
    "#1983 true and 17 False"
   ]
  },
  {
   "cell_type": "code",
   "execution_count": 54,
   "id": "dd635fc9",
   "metadata": {},
   "outputs": [
    {
     "data": {
      "text/plain": [
       "1.0085728693898135"
      ]
     },
     "execution_count": 54,
     "metadata": {},
     "output_type": "execute_result"
    }
   ],
   "source": [
    "2000/1983"
   ]
  },
  {
   "cell_type": "code",
   "execution_count": null,
   "id": "ab51b3cf",
   "metadata": {},
   "outputs": [],
   "source": []
  }
 ],
 "metadata": {
  "kernelspec": {
   "display_name": "Python 3 (ipykernel)",
   "language": "python",
   "name": "python3"
  },
  "language_info": {
   "codemirror_mode": {
    "name": "ipython",
    "version": 3
   },
   "file_extension": ".py",
   "mimetype": "text/x-python",
   "name": "python",
   "nbconvert_exporter": "python",
   "pygments_lexer": "ipython3",
   "version": "3.9.12"
  }
 },
 "nbformat": 4,
 "nbformat_minor": 5
}
